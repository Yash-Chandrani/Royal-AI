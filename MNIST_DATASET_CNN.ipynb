{
  "nbformat": 4,
  "nbformat_minor": 0,
  "metadata": {
    "colab": {
      "name": "MNIST DATASET_CNN.ipynb",
      "provenance": [],
      "authorship_tag": "ABX9TyMVJ2wfLf7PedsZXYILjmYt",
      "include_colab_link": true
    },
    "kernelspec": {
      "name": "python3",
      "display_name": "Python 3"
    },
    "accelerator": "GPU"
  },
  "cells": [
    {
      "cell_type": "markdown",
      "metadata": {
        "id": "view-in-github",
        "colab_type": "text"
      },
      "source": [
        "<a href=\"https://colab.research.google.com/github/Yash-Chandrani/Royal-AI/blob/master/MNIST_DATASET_CNN.ipynb\" target=\"_parent\"><img src=\"https://colab.research.google.com/assets/colab-badge.svg\" alt=\"Open In Colab\"/></a>"
      ]
    },
    {
      "cell_type": "code",
      "metadata": {
        "id": "qxC13v5zaS3f"
      },
      "source": [
        "import numpy as np \n",
        "import keras \n",
        "from keras.datasets import mnist \n",
        "from keras.models import Model \n",
        "from keras.layers import Dense, Input\n",
        "from keras.layers import Conv2D, MaxPooling2D, Dropout, Flatten \n",
        "from keras import backend as k "
      ],
      "execution_count": 1,
      "outputs": []
    },
    {
      "cell_type": "code",
      "metadata": {
        "id": "kWgU4PFkPxoi",
        "outputId": "cd69a1b8-c100-4d15-fe2c-d2d5f2b8928b",
        "colab": {
          "base_uri": "https://localhost:8080/",
          "height": 50
        }
      },
      "source": [
        "(x_train, y_train), (x_test, y_test) = mnist.load_data() "
      ],
      "execution_count": 2,
      "outputs": [
        {
          "output_type": "stream",
          "text": [
            "Downloading data from https://storage.googleapis.com/tensorflow/tf-keras-datasets/mnist.npz\n",
            "11493376/11490434 [==============================] - 0s 0us/step\n"
          ],
          "name": "stdout"
        }
      ]
    },
    {
      "cell_type": "code",
      "metadata": {
        "id": "ri6XRkWQQLgt"
      },
      "source": [
        "img_rows, img_cols=28, 28\n",
        "\n",
        "if k.image_data_format() == 'channels_first': \n",
        "  x_train = x_train.reshape(x_train.shape[0], 1, img_rows, img_cols) \n",
        "  x_test = x_test.reshape(x_test.shape[0], 1, img_rows, img_cols) \n",
        "  inpx = (1, img_rows, img_cols) \n",
        "\n",
        "else: \n",
        "  x_train = x_train.reshape(x_train.shape[0], img_rows, img_cols, 1) \n",
        "  x_test = x_test.reshape(x_test.shape[0], img_rows, img_cols, 1) \n",
        "  inpx = (img_rows, img_cols, 1) \n",
        "\n",
        "x_train = x_train.astype('float32') \n",
        "x_test = x_test.astype('float32') \n",
        "x_train /= 255\n",
        "x_test /= 255\n"
      ],
      "execution_count": 3,
      "outputs": []
    },
    {
      "cell_type": "code",
      "metadata": {
        "id": "BEWQsfYdQPt6"
      },
      "source": [
        "y_train = keras.utils.to_categorical(y_train) \n",
        "y_test = keras.utils.to_categorical(y_test) \n"
      ],
      "execution_count": 4,
      "outputs": []
    },
    {
      "cell_type": "code",
      "metadata": {
        "id": "H3Fi4YvnRuV7"
      },
      "source": [
        "inpx = Input(shape=inpx) \n",
        "layer1 = Conv2D(32, kernel_size=(3, 3), activation='relu')(inpx) \n",
        "layer2 = Conv2D(64, (3, 3), activation='relu')(layer1) \n",
        "layer3 = MaxPooling2D(pool_size=(3, 3))(layer2) \n",
        "layer4 = Dropout(0.5)(layer3) \n",
        "layer5 = Flatten()(layer4) \n",
        "layer6 = Dense(250, activation='sigmoid')(layer5) \n",
        "layer7 = Dense(10, activation='softmax')(layer6) \n"
      ],
      "execution_count": 5,
      "outputs": []
    },
    {
      "cell_type": "code",
      "metadata": {
        "id": "bMYT2jJKSAz7",
        "outputId": "11d95416-45b4-4681-d037-c1ce8d33f6d8",
        "colab": {
          "base_uri": "https://localhost:8080/",
          "height": 1000
        }
      },
      "source": [
        "model = Model([inpx], layer7) \n",
        "model.compile(optimizer=keras.optimizers.Adadelta(), \n",
        "\t\t\tloss=keras.losses.categorical_crossentropy, \n",
        "\t\t\tmetrics=['accuracy']) \n",
        "\n",
        "model.fit(x_train, y_train, epochs=100, batch_size=500) \n"
      ],
      "execution_count": 9,
      "outputs": [
        {
          "output_type": "stream",
          "text": [
            "Epoch 1/100\n",
            "  1/120 [..............................] - ETA: 4s - loss: 2.2085 - accuracy: 0.4160WARNING:tensorflow:Callbacks method `on_train_batch_end` is slow compared to the batch time (batch time: 0.0062s vs `on_train_batch_end` time: 0.0391s). Check your callbacks.\n",
            "120/120 [==============================] - 4s 36ms/step - loss: 2.2030 - accuracy: 0.4247\n",
            "Epoch 2/100\n",
            "120/120 [==============================] - 4s 35ms/step - loss: 2.1970 - accuracy: 0.4411\n",
            "Epoch 3/100\n",
            "120/120 [==============================] - 4s 35ms/step - loss: 2.1902 - accuracy: 0.4539\n",
            "Epoch 4/100\n",
            "120/120 [==============================] - 4s 35ms/step - loss: 2.1822 - accuracy: 0.4712\n",
            "Epoch 5/100\n",
            "120/120 [==============================] - 4s 36ms/step - loss: 2.1748 - accuracy: 0.4816\n",
            "Epoch 6/100\n",
            "120/120 [==============================] - 4s 36ms/step - loss: 2.1667 - accuracy: 0.4891\n",
            "Epoch 7/100\n",
            "120/120 [==============================] - 4s 36ms/step - loss: 2.1579 - accuracy: 0.4997\n",
            "Epoch 8/100\n",
            "120/120 [==============================] - 4s 35ms/step - loss: 2.1485 - accuracy: 0.5080\n",
            "Epoch 9/100\n",
            "120/120 [==============================] - 4s 36ms/step - loss: 2.1377 - accuracy: 0.5167\n",
            "Epoch 10/100\n",
            "120/120 [==============================] - 4s 35ms/step - loss: 2.1275 - accuracy: 0.5250\n",
            "Epoch 11/100\n",
            "120/120 [==============================] - 4s 35ms/step - loss: 2.1159 - accuracy: 0.5331\n",
            "Epoch 12/100\n",
            "120/120 [==============================] - 4s 35ms/step - loss: 2.1033 - accuracy: 0.5382\n",
            "Epoch 13/100\n",
            "120/120 [==============================] - 4s 36ms/step - loss: 2.0902 - accuracy: 0.5457\n",
            "Epoch 14/100\n",
            "120/120 [==============================] - 4s 35ms/step - loss: 2.0760 - accuracy: 0.5522\n",
            "Epoch 15/100\n",
            "120/120 [==============================] - 4s 35ms/step - loss: 2.0612 - accuracy: 0.5607\n",
            "Epoch 16/100\n",
            "120/120 [==============================] - 4s 35ms/step - loss: 2.0444 - accuracy: 0.5699\n",
            "Epoch 17/100\n",
            "120/120 [==============================] - 4s 35ms/step - loss: 2.0272 - accuracy: 0.5774\n",
            "Epoch 18/100\n",
            "120/120 [==============================] - 4s 35ms/step - loss: 2.0084 - accuracy: 0.5869\n",
            "Epoch 19/100\n",
            "120/120 [==============================] - 4s 35ms/step - loss: 1.9895 - accuracy: 0.5926\n",
            "Epoch 20/100\n",
            "120/120 [==============================] - 4s 35ms/step - loss: 1.9681 - accuracy: 0.6015\n",
            "Epoch 21/100\n",
            "120/120 [==============================] - 4s 35ms/step - loss: 1.9454 - accuracy: 0.6086\n",
            "Epoch 22/100\n",
            "120/120 [==============================] - 4s 35ms/step - loss: 1.9229 - accuracy: 0.6166\n",
            "Epoch 23/100\n",
            "120/120 [==============================] - 4s 35ms/step - loss: 1.8972 - accuracy: 0.6237\n",
            "Epoch 24/100\n",
            "120/120 [==============================] - 4s 35ms/step - loss: 1.8710 - accuracy: 0.6320\n",
            "Epoch 25/100\n",
            "120/120 [==============================] - 4s 35ms/step - loss: 1.8443 - accuracy: 0.6403\n",
            "Epoch 26/100\n",
            "120/120 [==============================] - 4s 35ms/step - loss: 1.8142 - accuracy: 0.6472\n",
            "Epoch 27/100\n",
            "120/120 [==============================] - 4s 35ms/step - loss: 1.7854 - accuracy: 0.6523\n",
            "Epoch 28/100\n",
            "120/120 [==============================] - 4s 35ms/step - loss: 1.7540 - accuracy: 0.6588\n",
            "Epoch 29/100\n",
            "120/120 [==============================] - 4s 35ms/step - loss: 1.7225 - accuracy: 0.6651\n",
            "Epoch 30/100\n",
            "120/120 [==============================] - 4s 35ms/step - loss: 1.6889 - accuracy: 0.6737\n",
            "Epoch 31/100\n",
            "120/120 [==============================] - 4s 35ms/step - loss: 1.6556 - accuracy: 0.6799\n",
            "Epoch 32/100\n",
            "120/120 [==============================] - 4s 35ms/step - loss: 1.6215 - accuracy: 0.6860\n",
            "Epoch 33/100\n",
            "120/120 [==============================] - 4s 35ms/step - loss: 1.5868 - accuracy: 0.6934\n",
            "Epoch 34/100\n",
            "120/120 [==============================] - 4s 35ms/step - loss: 1.5517 - accuracy: 0.6965\n",
            "Epoch 35/100\n",
            "120/120 [==============================] - 4s 35ms/step - loss: 1.5180 - accuracy: 0.7022\n",
            "Epoch 36/100\n",
            "120/120 [==============================] - 4s 35ms/step - loss: 1.4827 - accuracy: 0.7064\n",
            "Epoch 37/100\n",
            "120/120 [==============================] - 4s 35ms/step - loss: 1.4498 - accuracy: 0.7102\n",
            "Epoch 38/100\n",
            "120/120 [==============================] - 4s 35ms/step - loss: 1.4162 - accuracy: 0.7150\n",
            "Epoch 39/100\n",
            "120/120 [==============================] - 4s 35ms/step - loss: 1.3832 - accuracy: 0.7200\n",
            "Epoch 40/100\n",
            "120/120 [==============================] - 4s 35ms/step - loss: 1.3486 - accuracy: 0.7254\n",
            "Epoch 41/100\n",
            "120/120 [==============================] - 4s 35ms/step - loss: 1.3190 - accuracy: 0.7269\n",
            "Epoch 42/100\n",
            "120/120 [==============================] - 4s 35ms/step - loss: 1.2881 - accuracy: 0.7304\n",
            "Epoch 43/100\n",
            "120/120 [==============================] - 4s 36ms/step - loss: 1.2589 - accuracy: 0.7362\n",
            "Epoch 44/100\n",
            "120/120 [==============================] - 4s 36ms/step - loss: 1.2312 - accuracy: 0.7378\n",
            "Epoch 45/100\n",
            "120/120 [==============================] - 4s 35ms/step - loss: 1.2047 - accuracy: 0.7405\n",
            "Epoch 46/100\n",
            "120/120 [==============================] - 4s 36ms/step - loss: 1.1784 - accuracy: 0.7456\n",
            "Epoch 47/100\n",
            "120/120 [==============================] - 4s 35ms/step - loss: 1.1547 - accuracy: 0.7478\n",
            "Epoch 48/100\n",
            "120/120 [==============================] - 4s 35ms/step - loss: 1.1312 - accuracy: 0.7491\n",
            "Epoch 49/100\n",
            "120/120 [==============================] - 4s 35ms/step - loss: 1.1083 - accuracy: 0.7519\n",
            "Epoch 50/100\n",
            "120/120 [==============================] - 4s 35ms/step - loss: 1.0876 - accuracy: 0.7577\n",
            "Epoch 51/100\n",
            "120/120 [==============================] - 4s 35ms/step - loss: 1.0669 - accuracy: 0.7578\n",
            "Epoch 52/100\n",
            "120/120 [==============================] - 4s 35ms/step - loss: 1.0482 - accuracy: 0.7602\n",
            "Epoch 53/100\n",
            "120/120 [==============================] - 4s 35ms/step - loss: 1.0300 - accuracy: 0.7608\n",
            "Epoch 54/100\n",
            "120/120 [==============================] - 4s 35ms/step - loss: 1.0124 - accuracy: 0.7638\n",
            "Epoch 55/100\n",
            "120/120 [==============================] - 4s 35ms/step - loss: 0.9961 - accuracy: 0.7667\n",
            "Epoch 56/100\n",
            "120/120 [==============================] - 4s 35ms/step - loss: 0.9805 - accuracy: 0.7683\n",
            "Epoch 57/100\n",
            "120/120 [==============================] - 4s 36ms/step - loss: 0.9653 - accuracy: 0.7689\n",
            "Epoch 58/100\n",
            "120/120 [==============================] - 4s 36ms/step - loss: 0.9510 - accuracy: 0.7722\n",
            "Epoch 59/100\n",
            "120/120 [==============================] - 4s 35ms/step - loss: 0.9377 - accuracy: 0.7746\n",
            "Epoch 60/100\n",
            "120/120 [==============================] - 4s 35ms/step - loss: 0.9250 - accuracy: 0.7768\n",
            "Epoch 61/100\n",
            "120/120 [==============================] - 4s 35ms/step - loss: 0.9126 - accuracy: 0.7788\n",
            "Epoch 62/100\n",
            "120/120 [==============================] - 4s 35ms/step - loss: 0.9012 - accuracy: 0.7791\n",
            "Epoch 63/100\n",
            "120/120 [==============================] - 4s 35ms/step - loss: 0.8908 - accuracy: 0.7805\n",
            "Epoch 64/100\n",
            "120/120 [==============================] - 4s 35ms/step - loss: 0.8778 - accuracy: 0.7840\n",
            "Epoch 65/100\n",
            "120/120 [==============================] - 4s 35ms/step - loss: 0.8677 - accuracy: 0.7838\n",
            "Epoch 66/100\n",
            "120/120 [==============================] - 4s 35ms/step - loss: 0.8582 - accuracy: 0.7864\n",
            "Epoch 67/100\n",
            "120/120 [==============================] - 4s 35ms/step - loss: 0.8492 - accuracy: 0.7871\n",
            "Epoch 68/100\n",
            "120/120 [==============================] - 4s 35ms/step - loss: 0.8369 - accuracy: 0.7905\n",
            "Epoch 69/100\n",
            "120/120 [==============================] - 4s 35ms/step - loss: 0.8297 - accuracy: 0.7892\n",
            "Epoch 70/100\n",
            "120/120 [==============================] - 4s 35ms/step - loss: 0.8211 - accuracy: 0.7917\n",
            "Epoch 71/100\n",
            "120/120 [==============================] - 4s 35ms/step - loss: 0.8143 - accuracy: 0.7915\n",
            "Epoch 72/100\n",
            "120/120 [==============================] - 4s 35ms/step - loss: 0.8057 - accuracy: 0.7941\n",
            "Epoch 73/100\n",
            "120/120 [==============================] - 4s 35ms/step - loss: 0.7989 - accuracy: 0.7943\n",
            "Epoch 74/100\n",
            "120/120 [==============================] - 4s 35ms/step - loss: 0.7906 - accuracy: 0.7969\n",
            "Epoch 75/100\n",
            "120/120 [==============================] - 4s 35ms/step - loss: 0.7837 - accuracy: 0.7988\n",
            "Epoch 76/100\n",
            "120/120 [==============================] - 4s 35ms/step - loss: 0.7762 - accuracy: 0.7983\n",
            "Epoch 77/100\n",
            "120/120 [==============================] - 4s 35ms/step - loss: 0.7702 - accuracy: 0.7989\n",
            "Epoch 78/100\n",
            "120/120 [==============================] - 4s 35ms/step - loss: 0.7624 - accuracy: 0.8020\n",
            "Epoch 79/100\n",
            "120/120 [==============================] - 4s 35ms/step - loss: 0.7563 - accuracy: 0.8023\n",
            "Epoch 80/100\n",
            "120/120 [==============================] - 4s 35ms/step - loss: 0.7507 - accuracy: 0.8045\n",
            "Epoch 81/100\n",
            "120/120 [==============================] - 4s 35ms/step - loss: 0.7449 - accuracy: 0.8055\n",
            "Epoch 82/100\n",
            "120/120 [==============================] - 4s 35ms/step - loss: 0.7400 - accuracy: 0.8065\n",
            "Epoch 83/100\n",
            "120/120 [==============================] - 4s 35ms/step - loss: 0.7336 - accuracy: 0.8061\n",
            "Epoch 84/100\n",
            "120/120 [==============================] - 4s 35ms/step - loss: 0.7269 - accuracy: 0.8081\n",
            "Epoch 85/100\n",
            "120/120 [==============================] - 4s 35ms/step - loss: 0.7246 - accuracy: 0.8073\n",
            "Epoch 86/100\n",
            "120/120 [==============================] - 4s 35ms/step - loss: 0.7175 - accuracy: 0.8100\n",
            "Epoch 87/100\n",
            "120/120 [==============================] - 4s 35ms/step - loss: 0.7112 - accuracy: 0.8122\n",
            "Epoch 88/100\n",
            "120/120 [==============================] - 4s 35ms/step - loss: 0.7093 - accuracy: 0.8118\n",
            "Epoch 89/100\n",
            "120/120 [==============================] - 4s 35ms/step - loss: 0.7031 - accuracy: 0.8136\n",
            "Epoch 90/100\n",
            "120/120 [==============================] - 4s 35ms/step - loss: 0.6993 - accuracy: 0.8153\n",
            "Epoch 91/100\n",
            "120/120 [==============================] - 4s 35ms/step - loss: 0.6947 - accuracy: 0.8150\n",
            "Epoch 92/100\n",
            "120/120 [==============================] - 4s 35ms/step - loss: 0.6901 - accuracy: 0.8154\n",
            "Epoch 93/100\n",
            "120/120 [==============================] - 4s 35ms/step - loss: 0.6867 - accuracy: 0.8165\n",
            "Epoch 94/100\n",
            "120/120 [==============================] - 4s 35ms/step - loss: 0.6836 - accuracy: 0.8169\n",
            "Epoch 95/100\n",
            "120/120 [==============================] - 4s 35ms/step - loss: 0.6774 - accuracy: 0.8177\n",
            "Epoch 96/100\n",
            "120/120 [==============================] - 4s 35ms/step - loss: 0.6737 - accuracy: 0.8186\n",
            "Epoch 97/100\n",
            "120/120 [==============================] - 4s 35ms/step - loss: 0.6695 - accuracy: 0.8207\n",
            "Epoch 98/100\n",
            "120/120 [==============================] - 4s 35ms/step - loss: 0.6677 - accuracy: 0.8204\n",
            "Epoch 99/100\n",
            "120/120 [==============================] - 4s 35ms/step - loss: 0.6624 - accuracy: 0.8220\n",
            "Epoch 100/100\n",
            "120/120 [==============================] - 4s 35ms/step - loss: 0.6596 - accuracy: 0.8219\n"
          ],
          "name": "stdout"
        },
        {
          "output_type": "execute_result",
          "data": {
            "text/plain": [
              "<tensorflow.python.keras.callbacks.History at 0x7f90f1d79c50>"
            ]
          },
          "metadata": {
            "tags": []
          },
          "execution_count": 9
        }
      ]
    },
    {
      "cell_type": "code",
      "metadata": {
        "id": "LyvwSoeRdKtZ",
        "outputId": "586b825a-37d6-4f81-a757-add8becae044",
        "colab": {
          "base_uri": "https://localhost:8080/",
          "height": 50
        }
      },
      "source": [
        "score = model.evaluate(x_test, y_test, verbose=0) \n",
        "print('loss=', score[0]) \n",
        "print('accuracy=', score[1]) \n"
      ],
      "execution_count": 10,
      "outputs": [
        {
          "output_type": "stream",
          "text": [
            "loss= 0.5227318406105042\n",
            "accuracy= 0.8604999780654907\n"
          ],
          "name": "stdout"
        }
      ]
    }
  ]
}